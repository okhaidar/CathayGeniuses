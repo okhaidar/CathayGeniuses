{
 "cells": [
  {
   "cell_type": "code",
   "execution_count": 38,
   "metadata": {},
   "outputs": [],
   "source": [
    "import http.client\n",
    "import pandas as pd\n",
    "import json\n",
    "import openpyxl"
   ]
  },
  {
   "cell_type": "code",
   "execution_count": 39,
   "metadata": {},
   "outputs": [],
   "source": [
    "flight = pd.read_excel(\"parsed_data/flight.xlsx\")"
   ]
  },
  {
   "cell_type": "code",
   "execution_count": 46,
   "metadata": {},
   "outputs": [
    {
     "name": "stdout",
     "output_type": "stream",
     "text": [
      "{'success': True, 'message': 'Fetch data successfully', 'metadata': {'pageNum': 49, 'pageSize': 200, 'totalCount': 356, 'sort': 'legArrTime', 'inclCnlFltFlag': 'Y', 'basePort': 'HKG', 'depArr': 'ARR', 'oprTimeRangeFrom': '2023-11-19T00:00:00', 'oprTimeRangeTo': '2023-11-20T23:59:59', 'carrier': \"('CX','LD','UO')\"}, 'data': [], 'error': None}\n",
      "{'success': True, 'message': 'Fetch data successfully', 'metadata': {'pageNum': 49, 'pageSize': 200, 'totalCount': 356, 'sort': 'legArrTime', 'inclCnlFltFlag': 'Y', 'basePort': 'HKG', 'depArr': 'ARR', 'oprTimeRangeFrom': '2023-11-19T00:00:00', 'oprTimeRangeTo': '2023-11-20T23:59:59', 'carrier': \"('CX','LD','UO')\"}, 'data': [], 'error': None}\n",
      "{'success': True, 'message': 'Fetch data successfully', 'metadata': {'pageNum': 49, 'pageSize': 200, 'totalCount': 356, 'sort': 'legArrTime', 'inclCnlFltFlag': 'Y', 'basePort': 'HKG', 'depArr': 'ARR', 'oprTimeRangeFrom': '2023-11-19T00:00:00', 'oprTimeRangeTo': '2023-11-20T23:59:59', 'carrier': \"('CX','LD','UO')\"}, 'data': [], 'error': None}\n",
      "{'success': True, 'message': 'Fetch data successfully', 'metadata': {'pageNum': 49, 'pageSize': 200, 'totalCount': 356, 'sort': 'legArrTime', 'inclCnlFltFlag': 'Y', 'basePort': 'HKG', 'depArr': 'ARR', 'oprTimeRangeFrom': '2023-11-19T00:00:00', 'oprTimeRangeTo': '2023-11-20T23:59:59', 'carrier': \"('CX','LD','UO')\"}, 'data': [], 'error': None}\n",
      "{'success': True, 'message': 'Fetch data successfully', 'metadata': {'pageNum': 49, 'pageSize': 200, 'totalCount': 356, 'sort': 'legArrTime', 'inclCnlFltFlag': 'Y', 'basePort': 'HKG', 'depArr': 'ARR', 'oprTimeRangeFrom': '2023-11-19T00:00:00', 'oprTimeRangeTo': '2023-11-20T23:59:59', 'carrier': \"('CX','LD','UO')\"}, 'data': [], 'error': None}\n",
      "{'success': True, 'message': 'Fetch data successfully', 'metadata': {'pageNum': 49, 'pageSize': 200, 'totalCount': 356, 'sort': 'legArrTime', 'inclCnlFltFlag': 'Y', 'basePort': 'HKG', 'depArr': 'ARR', 'oprTimeRangeFrom': '2023-11-19T00:00:00', 'oprTimeRangeTo': '2023-11-20T23:59:59', 'carrier': \"('CX','LD','UO')\"}, 'data': [], 'error': None}\n",
      "{'success': True, 'message': 'Fetch data successfully', 'metadata': {'pageNum': 49, 'pageSize': 200, 'totalCount': 356, 'sort': 'legArrTime', 'inclCnlFltFlag': 'Y', 'basePort': 'HKG', 'depArr': 'ARR', 'oprTimeRangeFrom': '2023-11-19T00:00:00', 'oprTimeRangeTo': '2023-11-20T23:59:59', 'carrier': \"('CX','LD','UO')\"}, 'data': [], 'error': None}\n",
      "{'success': True, 'message': 'Fetch data successfully', 'metadata': {'pageNum': 49, 'pageSize': 200, 'totalCount': 356, 'sort': 'legArrTime', 'inclCnlFltFlag': 'Y', 'basePort': 'HKG', 'depArr': 'ARR', 'oprTimeRangeFrom': '2023-11-19T00:00:00', 'oprTimeRangeTo': '2023-11-20T23:59:59', 'carrier': \"('CX','LD','UO')\"}, 'data': [], 'error': None}\n",
      "{'success': True, 'message': 'Fetch data successfully', 'metadata': {'pageNum': 49, 'pageSize': 200, 'totalCount': 356, 'sort': 'legArrTime', 'inclCnlFltFlag': 'Y', 'basePort': 'HKG', 'depArr': 'ARR', 'oprTimeRangeFrom': '2023-11-19T00:00:00', 'oprTimeRangeTo': '2023-11-20T23:59:59', 'carrier': \"('CX','LD','UO')\"}, 'data': [], 'error': None}\n",
      "{'success': True, 'message': 'Fetch data successfully', 'metadata': {'pageNum': 49, 'pageSize': 200, 'totalCount': 356, 'sort': 'legArrTime', 'inclCnlFltFlag': 'Y', 'basePort': 'HKG', 'depArr': 'ARR', 'oprTimeRangeFrom': '2023-11-19T00:00:00', 'oprTimeRangeTo': '2023-11-20T23:59:59', 'carrier': \"('CX','LD','UO')\"}, 'data': [], 'error': None}\n",
      "{'success': True, 'message': 'Fetch data successfully', 'metadata': {'pageNum': 49, 'pageSize': 200, 'totalCount': 356, 'sort': 'legArrTime', 'inclCnlFltFlag': 'Y', 'basePort': 'HKG', 'depArr': 'ARR', 'oprTimeRangeFrom': '2023-11-19T00:00:00', 'oprTimeRangeTo': '2023-11-20T23:59:59', 'carrier': \"('CX','LD','UO')\"}, 'data': [], 'error': None}\n",
      "{'success': True, 'message': 'Fetch data successfully', 'metadata': {'pageNum': 49, 'pageSize': 200, 'totalCount': 356, 'sort': 'legArrTime', 'inclCnlFltFlag': 'Y', 'basePort': 'HKG', 'depArr': 'ARR', 'oprTimeRangeFrom': '2023-11-19T00:00:00', 'oprTimeRangeTo': '2023-11-20T23:59:59', 'carrier': \"('CX','LD','UO')\"}, 'data': [], 'error': None}\n",
      "{'success': True, 'message': 'Fetch data successfully', 'metadata': {'pageNum': 49, 'pageSize': 200, 'totalCount': 356, 'sort': 'legArrTime', 'inclCnlFltFlag': 'Y', 'basePort': 'HKG', 'depArr': 'ARR', 'oprTimeRangeFrom': '2023-11-19T00:00:00', 'oprTimeRangeTo': '2023-11-20T23:59:59', 'carrier': \"('CX','LD','UO')\"}, 'data': [], 'error': None}\n",
      "{'success': True, 'message': 'Fetch data successfully', 'metadata': {'pageNum': 49, 'pageSize': 200, 'totalCount': 356, 'sort': 'legArrTime', 'inclCnlFltFlag': 'Y', 'basePort': 'HKG', 'depArr': 'ARR', 'oprTimeRangeFrom': '2023-11-19T00:00:00', 'oprTimeRangeTo': '2023-11-20T23:59:59', 'carrier': \"('CX','LD','UO')\"}, 'data': [], 'error': None}\n",
      "{'success': True, 'message': 'Fetch data successfully', 'metadata': {'pageNum': 49, 'pageSize': 200, 'totalCount': 356, 'sort': 'legArrTime', 'inclCnlFltFlag': 'Y', 'basePort': 'HKG', 'depArr': 'ARR', 'oprTimeRangeFrom': '2023-11-19T00:00:00', 'oprTimeRangeTo': '2023-11-20T23:59:59', 'carrier': \"('CX','LD','UO')\"}, 'data': [], 'error': None}\n",
      "{'success': True, 'message': 'Fetch data successfully', 'metadata': {'pageNum': 49, 'pageSize': 200, 'totalCount': 356, 'sort': 'legArrTime', 'inclCnlFltFlag': 'Y', 'basePort': 'HKG', 'depArr': 'ARR', 'oprTimeRangeFrom': '2023-11-19T00:00:00', 'oprTimeRangeTo': '2023-11-20T23:59:59', 'carrier': \"('CX','LD','UO')\"}, 'data': [], 'error': None}\n",
      "{'success': True, 'message': 'Fetch data successfully', 'metadata': {'pageNum': 49, 'pageSize': 200, 'totalCount': 356, 'sort': 'legArrTime', 'inclCnlFltFlag': 'Y', 'basePort': 'HKG', 'depArr': 'ARR', 'oprTimeRangeFrom': '2023-11-19T00:00:00', 'oprTimeRangeTo': '2023-11-20T23:59:59', 'carrier': \"('CX','LD','UO')\"}, 'data': [], 'error': None}\n",
      "{'success': True, 'message': 'Fetch data successfully', 'metadata': {'pageNum': 49, 'pageSize': 200, 'totalCount': 356, 'sort': 'legArrTime', 'inclCnlFltFlag': 'Y', 'basePort': 'HKG', 'depArr': 'ARR', 'oprTimeRangeFrom': '2023-11-19T00:00:00', 'oprTimeRangeTo': '2023-11-20T23:59:59', 'carrier': \"('CX','LD','UO')\"}, 'data': [], 'error': None}\n",
      "{'success': True, 'message': 'Fetch data successfully', 'metadata': {'pageNum': 49, 'pageSize': 200, 'totalCount': 356, 'sort': 'legArrTime', 'inclCnlFltFlag': 'Y', 'basePort': 'HKG', 'depArr': 'ARR', 'oprTimeRangeFrom': '2023-11-19T00:00:00', 'oprTimeRangeTo': '2023-11-20T23:59:59', 'carrier': \"('CX','LD','UO')\"}, 'data': [], 'error': None}\n",
      "{'success': True, 'message': 'Fetch data successfully', 'metadata': {'pageNum': 49, 'pageSize': 200, 'totalCount': 356, 'sort': 'legArrTime', 'inclCnlFltFlag': 'Y', 'basePort': 'HKG', 'depArr': 'ARR', 'oprTimeRangeFrom': '2023-11-19T00:00:00', 'oprTimeRangeTo': '2023-11-20T23:59:59', 'carrier': \"('CX','LD','UO')\"}, 'data': [], 'error': None}\n",
      "{'success': True, 'message': 'Fetch data successfully', 'metadata': {'pageNum': 49, 'pageSize': 200, 'totalCount': 356, 'sort': 'legArrTime', 'inclCnlFltFlag': 'Y', 'basePort': 'HKG', 'depArr': 'ARR', 'oprTimeRangeFrom': '2023-11-19T00:00:00', 'oprTimeRangeTo': '2023-11-20T23:59:59', 'carrier': \"('CX','LD','UO')\"}, 'data': [], 'error': None}\n",
      "{'success': True, 'message': 'Fetch data successfully', 'metadata': {'pageNum': 49, 'pageSize': 200, 'totalCount': 356, 'sort': 'legArrTime', 'inclCnlFltFlag': 'Y', 'basePort': 'HKG', 'depArr': 'ARR', 'oprTimeRangeFrom': '2023-11-19T00:00:00', 'oprTimeRangeTo': '2023-11-20T23:59:59', 'carrier': \"('CX','LD','UO')\"}, 'data': [], 'error': None}\n"
     ]
    }
   ],
   "source": [
    "table = []\n",
    "for date in flight.scheduledDepartureDate:\n",
    "    try:\n",
    "        header = {\"apiKey\" : \"EgawcPqu4SXp332msGAStryj7Dm50WOI\"}\n",
    "        conn = http.client.HTTPSConnection(\"developers.cathaypacific.com\")\n",
    "        pageNum = i\n",
    "        pageSize = 200\n",
    "        userPort = \"HKG\"\n",
    "        depArr = \"ARR\"\n",
    "        oprDateFrom = date\n",
    "        oprDateTo = \"2023-11-20\"\n",
    "    \n",
    "        conn.request(\"GET\", \"/hackathon-apigw/cargo/flights/list?pageNum={}&pageSize={}&userPort={}&depArr={}&oprDateFrom={}&oprDateTo={}\".format(pageNum, pageSize, userPort, depArr, oprDateFrom, oprDateTo), headers=header)\n",
    "    \n",
    "        res = conn.getresponse()\n",
    "        data = res.read()\n",
    "    \n",
    "        data_json = json.loads(data.decode(\"utf-8\"))\n",
    "        print(data_json)\n",
    "        for item in data_json['data']:\n",
    "            table = table + [{'carrierfltNum' :item['carrier'] + item['fltNum'], 'sta' : item['sta'], 'std' : item['std']}]\n",
    "    except:\n",
    "        break\n",
    "df = pd.DataFrame(table)"
   ]
  },
  {
   "cell_type": "code",
   "execution_count": 45,
   "metadata": {},
   "outputs": [
    {
     "data": {
      "text/html": [
       "<div>\n",
       "<style scoped>\n",
       "    .dataframe tbody tr th:only-of-type {\n",
       "        vertical-align: middle;\n",
       "    }\n",
       "\n",
       "    .dataframe tbody tr th {\n",
       "        vertical-align: top;\n",
       "    }\n",
       "\n",
       "    .dataframe thead th {\n",
       "        text-align: right;\n",
       "    }\n",
       "</style>\n",
       "<table border=\"1\" class=\"dataframe\">\n",
       "  <thead>\n",
       "    <tr style=\"text-align: right;\">\n",
       "      <th></th>\n",
       "    </tr>\n",
       "  </thead>\n",
       "  <tbody>\n",
       "  </tbody>\n",
       "</table>\n",
       "</div>"
      ],
      "text/plain": [
       "Empty DataFrame\n",
       "Columns: []\n",
       "Index: []"
      ]
     },
     "execution_count": 45,
     "metadata": {},
     "output_type": "execute_result"
    }
   ],
   "source": [
    "df"
   ]
  },
  {
   "cell_type": "code",
   "execution_count": 29,
   "metadata": {},
   "outputs": [],
   "source": [
    "df.to_excel(\"parsed_data/cargo_flights.xlsx\")"
   ]
  }
 ],
 "metadata": {
  "kernelspec": {
   "display_name": "Python 3",
   "language": "python",
   "name": "python3"
  },
  "language_info": {
   "codemirror_mode": {
    "name": "ipython",
    "version": 3
   },
   "file_extension": ".py",
   "mimetype": "text/x-python",
   "name": "python",
   "nbconvert_exporter": "python",
   "pygments_lexer": "ipython3",
   "version": "3.11.4"
  }
 },
 "nbformat": 4,
 "nbformat_minor": 2
}

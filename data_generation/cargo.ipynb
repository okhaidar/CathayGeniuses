{
 "cells": [
  {
   "cell_type": "code",
   "execution_count": null,
   "metadata": {},
   "outputs": [],
   "source": [
    "import http.client\n",
    "import pandas as pd\n",
    "\n",
    "conn = http.client.HTTPSConnection(\"developers.cathaypacific.com\")\n",
    "pageNum = \n",
    "conn.request(\"GET\", \"/hackathon-apigw/cargo/flights/details?userPort=%3CSOME_STRING_VALUE%3E&depArr=%3CSOME_STRING_VALUE%3E&carrier=%3CSOME_STRING_VALUE%3E&fltNum=%3CSOME_STRING_VALUE%3E&fltDate=%3CSOME_STRING_VALUE%3E\")\n",
    "\n",
    "res = conn.getresponse()\n",
    "data = res.read()\n",
    "\n",
    "print(data.decode(\"utf-8\"))"
   ]
  }
 ],
 "metadata": {
  "language_info": {
   "name": "python"
  }
 },
 "nbformat": 4,
 "nbformat_minor": 2
}

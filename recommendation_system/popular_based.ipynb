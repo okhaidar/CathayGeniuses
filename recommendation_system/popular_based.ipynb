{
 "cells": [
  {
   "cell_type": "code",
   "execution_count": 20,
   "metadata": {},
   "outputs": [],
   "source": [
    "import numpy as np # linear algebra\n",
    "import pandas as pd # data processing, CSV file I/O (e.g. pd.read_csv)\n",
    "\n",
    "import matplotlib.pyplot as plt\n",
    "import seaborn as sns\n",
    "sns.set_style('white')\n",
    "%matplotlib inline\n",
    "\n",
    "# Split\n",
    "from sklearn.model_selection import train_test_split\n",
    "\n",
    "from surprise import Reader, Dataset, SVD\n",
    "from surprise.model_selection import cross_validate\n",
    "\n",
    "import os\n",
    "for dirname, _, filenames in os.walk('/kaggle/input'):\n",
    "    for filename in filenames:\n",
    "        print(os.path.join(dirname, filename))"
   ]
  },
  {
   "cell_type": "code",
   "execution_count": 21,
   "metadata": {},
   "outputs": [],
   "source": [
    "df = pd.read_excel(\"datasets/users_purchase_history.xlsx\", names=['userId', 'itemId','purchaseTime','numPurchased'])"
   ]
  },
  {
   "cell_type": "code",
   "execution_count": 22,
   "metadata": {},
   "outputs": [],
   "source": [
    "popular_products = pd.DataFrame(df.groupby('itemId')['numPurchased'].count())\n",
    "most_popular = popular_products.sort_values('numPurchased', ascending=False)\n",
    "output_df = most_popular.head(3)"
   ]
  },
  {
   "cell_type": "code",
   "execution_count": 23,
   "metadata": {},
   "outputs": [],
   "source": [
    "output_df.to_excel(\"outputs/top_rankings.xlsx\")"
   ]
  },
  {
   "cell_type": "code",
   "execution_count": 24,
   "metadata": {},
   "outputs": [
    {
     "name": "stdout",
     "output_type": "stream",
     "text": [
      "Evaluating RMSE, MAE of algorithm SVD on 5 split(s).\n",
      "\n",
      "                  Fold 1  Fold 2  Fold 3  Fold 4  Fold 5  Mean    Std     \n",
      "RMSE (testset)    8.0305  7.9971  7.7698  8.1069  7.7284  7.9265  0.1498  \n",
      "MAE (testset)     6.3599  6.7133  6.2929  6.6656  6.3604  6.4784  0.1747  \n",
      "Fit time          0.00    0.00    0.00    0.00    0.00    0.00    0.00    \n",
      "Test time         0.00    0.00    0.00    0.00    0.00    0.00    0.00    \n"
     ]
    },
    {
     "data": {
      "text/plain": [
       "userId\n",
       "510892B000014EBB    92\n",
       "510812B00000C8DD    84\n",
       "510812B00000D429    77\n",
       "510812B00000D2AF    71\n",
       "5109C2B00001E932    70\n",
       "5109C2B00001E6BE    66\n",
       "510892B00001634B    64\n",
       "510892B000015B41    63\n",
       "510892B000015CB7    54\n",
       "510892B0000153AC    41\n",
       "510892B00001515E    41\n",
       "510812B00000D2DD    37\n",
       "510892B00001637F    34\n",
       "510812B00000D1DE    26\n",
       "510812B00000D2D2    23\n",
       "510892B000015206    20\n",
       "510812B00000CADE    12\n",
       "Name: count, dtype: int64"
      ]
     },
     "execution_count": 24,
     "metadata": {},
     "output_type": "execute_result"
    }
   ],
   "source": [
    "reader = Reader()\n",
    "data = Dataset.load_from_df(df[['userId', 'itemId', 'numPurchased']], reader)\n",
    "svd = SVD()\n",
    "cross_validate(svd, data, measures=['RMSE', 'MAE'], cv=5, verbose=True)\n",
    "trainset = data.build_full_trainset()\n",
    "svd.fit(trainset)\n",
    "df['userId'].value_counts()\n"
   ]
  },
  {
   "cell_type": "code",
   "execution_count": 25,
   "metadata": {},
   "outputs": [
    {
     "data": {
      "text/html": [
       "<div>\n",
       "<style scoped>\n",
       "    .dataframe tbody tr th:only-of-type {\n",
       "        vertical-align: middle;\n",
       "    }\n",
       "\n",
       "    .dataframe tbody tr th {\n",
       "        vertical-align: top;\n",
       "    }\n",
       "\n",
       "    .dataframe thead th {\n",
       "        text-align: right;\n",
       "    }\n",
       "</style>\n",
       "<table border=\"1\" class=\"dataframe\">\n",
       "  <thead>\n",
       "    <tr style=\"text-align: right;\">\n",
       "      <th></th>\n",
       "      <th>userId</th>\n",
       "      <th>itemId</th>\n",
       "      <th>purchaseTime</th>\n",
       "      <th>numPurchased</th>\n",
       "    </tr>\n",
       "  </thead>\n",
       "  <tbody>\n",
       "    <tr>\n",
       "      <th>46</th>\n",
       "      <td>510812B00000C8DD</td>\n",
       "      <td>CIL_0065</td>\n",
       "      <td>2023-09-30 18:34:50.618</td>\n",
       "      <td>18</td>\n",
       "    </tr>\n",
       "    <tr>\n",
       "      <th>47</th>\n",
       "      <td>510812B00000C8DD</td>\n",
       "      <td>RHI_0056</td>\n",
       "      <td>2022-12-21 20:03:56.618</td>\n",
       "      <td>12</td>\n",
       "    </tr>\n",
       "    <tr>\n",
       "      <th>48</th>\n",
       "      <td>510812B00000C8DD</td>\n",
       "      <td>COM_0020</td>\n",
       "      <td>2023-08-23 14:00:57.618</td>\n",
       "      <td>16</td>\n",
       "    </tr>\n",
       "    <tr>\n",
       "      <th>49</th>\n",
       "      <td>510812B00000C8DD</td>\n",
       "      <td>IFC_0354</td>\n",
       "      <td>2022-11-26 09:11:32.618</td>\n",
       "      <td>2</td>\n",
       "    </tr>\n",
       "    <tr>\n",
       "      <th>50</th>\n",
       "      <td>510812B00000C8DD</td>\n",
       "      <td>CIL_0049</td>\n",
       "      <td>2023-10-09 03:57:36.618</td>\n",
       "      <td>3</td>\n",
       "    </tr>\n",
       "    <tr>\n",
       "      <th>...</th>\n",
       "      <td>...</td>\n",
       "      <td>...</td>\n",
       "      <td>...</td>\n",
       "      <td>...</td>\n",
       "    </tr>\n",
       "    <tr>\n",
       "      <th>381</th>\n",
       "      <td>510812B00000C8DD</td>\n",
       "      <td>IFC_0354</td>\n",
       "      <td>2023-05-25 05:16:08.618</td>\n",
       "      <td>17</td>\n",
       "    </tr>\n",
       "    <tr>\n",
       "      <th>382</th>\n",
       "      <td>510812B00000C8DD</td>\n",
       "      <td>RHI_0065</td>\n",
       "      <td>2023-01-18 10:30:58.618</td>\n",
       "      <td>5</td>\n",
       "    </tr>\n",
       "    <tr>\n",
       "      <th>383</th>\n",
       "      <td>510812B00000C8DD</td>\n",
       "      <td>RHI_0056</td>\n",
       "      <td>2023-09-20 11:21:06.618</td>\n",
       "      <td>2</td>\n",
       "    </tr>\n",
       "    <tr>\n",
       "      <th>384</th>\n",
       "      <td>510812B00000C8DD</td>\n",
       "      <td>CIL_0049</td>\n",
       "      <td>2023-05-28 21:21:41.618</td>\n",
       "      <td>1</td>\n",
       "    </tr>\n",
       "    <tr>\n",
       "      <th>385</th>\n",
       "      <td>510812B00000C8DD</td>\n",
       "      <td>PRR_0019</td>\n",
       "      <td>2023-04-15 00:53:16.618</td>\n",
       "      <td>7</td>\n",
       "    </tr>\n",
       "  </tbody>\n",
       "</table>\n",
       "<p>84 rows × 4 columns</p>\n",
       "</div>"
      ],
      "text/plain": [
       "               userId    itemId            purchaseTime  numPurchased\n",
       "46   510812B00000C8DD  CIL_0065 2023-09-30 18:34:50.618            18\n",
       "47   510812B00000C8DD  RHI_0056 2022-12-21 20:03:56.618            12\n",
       "48   510812B00000C8DD  COM_0020 2023-08-23 14:00:57.618            16\n",
       "49   510812B00000C8DD  IFC_0354 2022-11-26 09:11:32.618             2\n",
       "50   510812B00000C8DD  CIL_0049 2023-10-09 03:57:36.618             3\n",
       "..                ...       ...                     ...           ...\n",
       "381  510812B00000C8DD  IFC_0354 2023-05-25 05:16:08.618            17\n",
       "382  510812B00000C8DD  RHI_0065 2023-01-18 10:30:58.618             5\n",
       "383  510812B00000C8DD  RHI_0056 2023-09-20 11:21:06.618             2\n",
       "384  510812B00000C8DD  CIL_0049 2023-05-28 21:21:41.618             1\n",
       "385  510812B00000C8DD  PRR_0019 2023-04-15 00:53:16.618             7\n",
       "\n",
       "[84 rows x 4 columns]"
      ]
     },
     "execution_count": 25,
     "metadata": {},
     "output_type": "execute_result"
    }
   ],
   "source": [
    "df[df['userId'] == '510812B00000C8DD']\n"
   ]
  },
  {
   "cell_type": "code",
   "execution_count": 29,
   "metadata": {},
   "outputs": [
    {
     "data": {
      "text/plain": [
       "Prediction(uid='510812B00000C8DD', iid='CIL_0049', r_ui=5.0, est=3.225769753270294, details={'was_impossible': False})"
      ]
     },
     "execution_count": 29,
     "metadata": {},
     "output_type": "execute_result"
    }
   ],
   "source": [
    "svd.predict('510812B00000C8DD', 'CIL_0049', 5.0)"
   ]
  }
 ],
 "metadata": {
  "kernelspec": {
   "display_name": "Python 3",
   "language": "python",
   "name": "python3"
  },
  "language_info": {
   "codemirror_mode": {
    "name": "ipython",
    "version": 3
   },
   "file_extension": ".py",
   "mimetype": "text/x-python",
   "name": "python",
   "nbconvert_exporter": "python",
   "pygments_lexer": "ipython3",
   "version": "3.11.4"
  }
 },
 "nbformat": 4,
 "nbformat_minor": 2
}

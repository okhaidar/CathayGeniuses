{
 "cells": [
  {
   "cell_type": "code",
   "execution_count": 8,
   "metadata": {},
   "outputs": [],
   "source": [
    "import pandas as pd\n",
    "destination_df = pd.read_excel('datasets/user_destination.xlsx')\n"
   ]
  },
  {
   "cell_type": "code",
   "execution_count": 9,
   "metadata": {},
   "outputs": [],
   "source": [
    "destination_df = destination_df.loc[destination_df['userId'] == '510892B000014EBB']"
   ]
  },
  {
   "cell_type": "code",
   "execution_count": 10,
   "metadata": {},
   "outputs": [],
   "source": [
    "s = destination_df.groupby(['userId','destination']).size()\n",
    "df = s.loc[s.groupby(level=0).idxmax()].reset_index().drop(0,axis=1)"
   ]
  },
  {
   "cell_type": "code",
   "execution_count": 14,
   "metadata": {},
   "outputs": [],
   "source": [
    "product_df = pd.read_excel('datasets/Food_and_Wines.xlsx')"
   ]
  },
  {
   "cell_type": "code",
   "execution_count": 17,
   "metadata": {},
   "outputs": [
    {
     "data": {
      "text/html": [
       "<div>\n",
       "<style scoped>\n",
       "    .dataframe tbody tr th:only-of-type {\n",
       "        vertical-align: middle;\n",
       "    }\n",
       "\n",
       "    .dataframe tbody tr th {\n",
       "        vertical-align: top;\n",
       "    }\n",
       "\n",
       "    .dataframe thead th {\n",
       "        text-align: right;\n",
       "    }\n",
       "</style>\n",
       "<table border=\"1\" class=\"dataframe\">\n",
       "  <thead>\n",
       "    <tr style=\"text-align: right;\">\n",
       "      <th></th>\n",
       "      <th>Unnamed: 0</th>\n",
       "      <th>baseProduct</th>\n",
       "      <th>brandName</th>\n",
       "      <th>img2ForPLP</th>\n",
       "      <th>description</th>\n",
       "      <th>discountFullCashPrice</th>\n",
       "      <th>countries</th>\n",
       "      <th>weight/kg</th>\n",
       "      <th>numberPurchased</th>\n",
       "    </tr>\n",
       "  </thead>\n",
       "  <tbody>\n",
       "    <tr>\n",
       "      <th>58</th>\n",
       "      <td>169</td>\n",
       "      <td>CWS_0968</td>\n",
       "      <td>Fook Ming Tong</td>\n",
       "      <td>/medias/HP00221-02.jpg-AML-Convert-294Wx195H?c...</td>\n",
       "      <td>&lt;p&gt;Fook Ming Tong Tea Lifestyles Gift Set (Sel...</td>\n",
       "      <td>158</td>\n",
       "      <td>HND</td>\n",
       "      <td>1</td>\n",
       "      <td>48</td>\n",
       "    </tr>\n",
       "    <tr>\n",
       "      <th>13</th>\n",
       "      <td>20</td>\n",
       "      <td>RHI_0055</td>\n",
       "      <td>Regal Airport Hotel</td>\n",
       "      <td>/medias/RAH-Xmas-Dinner-Generic-2.jpg-AML-Conv...</td>\n",
       "      <td>&lt;p&gt;Caf&amp;eacute; Aficionado is one of Hong Kong'...</td>\n",
       "      <td>768</td>\n",
       "      <td>HND</td>\n",
       "      <td>5</td>\n",
       "      <td>47</td>\n",
       "    </tr>\n",
       "    <tr>\n",
       "      <th>57</th>\n",
       "      <td>168</td>\n",
       "      <td>KED_0009</td>\n",
       "      <td>Cuvaison Estate</td>\n",
       "      <td>/medias/Andy-Warhol-Chardonnay.jpg-AML-Convert...</td>\n",
       "      <td>&lt;p&gt;1 x 2014 Chardonnay&lt;/p&gt;\\n&lt;p&gt;1 x 2014 Red Bl...</td>\n",
       "      <td>1736</td>\n",
       "      <td>HND</td>\n",
       "      <td>4</td>\n",
       "      <td>46</td>\n",
       "    </tr>\n",
       "  </tbody>\n",
       "</table>\n",
       "</div>"
      ],
      "text/plain": [
       "    Unnamed: 0 baseProduct            brandName  \\\n",
       "58         169    CWS_0968       Fook Ming Tong   \n",
       "13          20    RHI_0055  Regal Airport Hotel   \n",
       "57         168    KED_0009      Cuvaison Estate   \n",
       "\n",
       "                                           img2ForPLP  \\\n",
       "58  /medias/HP00221-02.jpg-AML-Convert-294Wx195H?c...   \n",
       "13  /medias/RAH-Xmas-Dinner-Generic-2.jpg-AML-Conv...   \n",
       "57  /medias/Andy-Warhol-Chardonnay.jpg-AML-Convert...   \n",
       "\n",
       "                                          description  discountFullCashPrice  \\\n",
       "58  <p>Fook Ming Tong Tea Lifestyles Gift Set (Sel...                    158   \n",
       "13  <p>Caf&eacute; Aficionado is one of Hong Kong'...                    768   \n",
       "57  <p>1 x 2014 Chardonnay</p>\\n<p>1 x 2014 Red Bl...                   1736   \n",
       "\n",
       "   countries  weight/kg  numberPurchased  \n",
       "58       HND          1               48  \n",
       "13       HND          5               47  \n",
       "57       HND          4               46  "
      ]
     },
     "execution_count": 17,
     "metadata": {},
     "output_type": "execute_result"
    }
   ],
   "source": [
    "product_df.loc[product_df['countries'] == df.destination[0]].sort_values(by = 'numberPurchased', ascending = False).head(3)"
   ]
  }
 ],
 "metadata": {
  "kernelspec": {
   "display_name": "Python 3",
   "language": "python",
   "name": "python3"
  },
  "language_info": {
   "codemirror_mode": {
    "name": "ipython",
    "version": 3
   },
   "file_extension": ".py",
   "mimetype": "text/x-python",
   "name": "python",
   "nbconvert_exporter": "python",
   "pygments_lexer": "ipython3",
   "version": "3.11.4"
  }
 },
 "nbformat": 4,
 "nbformat_minor": 2
}
